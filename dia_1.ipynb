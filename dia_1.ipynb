{
 "cells": [
  {
   "cell_type": "markdown",
   "metadata": {},
   "source": [
    "Hemos encontrado un pelo colgado del árbol de Navidad. Lo hemos llevado a un laboratorio para descifrar su código genético y hemos obtenido la siguiente secuencia de nucleótidos: Fichero.\n",
    "Tenemos un sospechoso que ha sido visto en la zona, con un poco de maña hemos conseguido obtener un trozo de su ADN. La secuencia de nucleótidos obtenida es la siguiente: \"CGGTAC\".\n",
    "\n",
    "Encuentra la cantidad de veces que aparece esta secuencia en el ADN del pelo."
   ]
  },
  {
   "cell_type": "markdown",
   "metadata": {},
   "source": [
    "\"CGGTACCTTGACA\" -> 1\n",
    "\n",
    "\n",
    "\"ACACACA\" -> 0\n",
    "\n",
    "\n",
    "\"TTACGACGGTACTGAACGGTACTGA\" -> 2"
   ]
  },
  {
   "cell_type": "code",
   "execution_count": 6,
   "metadata": {},
   "outputs": [
    {
     "name": "stdout",
     "output_type": "stream",
     "text": [
      "the number of times the sequence CGGTAC appears is: 8\n",
      "the number of times the sequence CGGTACCTTGACA appears is: 0\n",
      "the number of times the sequence ACACACA appears is: 0\n",
      "the number of times the sequence TTTCGAAATTTGCCCTCAAGCGCGAGTATTGAACCAGGCTTACGCCCAAGAACGTAGCAAGCTGACTCAAACAAAATACATTTTGCCCGCGTTACATATGAATCAAGTTGGAAGTTATGGAGCATAGTAACATGTGGACGGCCAGTGGTGGGTTGCTACACCCCTGCGGCAACGTTGAAGCTCCTGGATTACACTGGCTGGATCTAAGCCGTGACACCCGTCATACTCCATAACCGTCTGTAACTCACGGCTTGTTCTGGACTGGATTGCCATTCTCTCAGAGTATTATGCAGGCCGGCGTACGGGTCCCATATAAACCTGTCATAGCTTACCTGACTCTACTTGGAAATGTGGCTAGGTCTTTGCCCACGCACCTAATCGGTCCTCGTTTGCTTTTTAGGACCCGATGAACTACAGAACACTGCAAGAATCTCTACCTGCTTTACAAAGTGCTGGATCCTATTCCAGCGGGATCTTTTATCTAAACACGATGAGAGGAGTATTCGTCAGGCCACA appears is: 1\n"
     ]
    }
   ],
   "source": [
    "with open('Dia1.txt', 'r') as file:\n",
    "    content = file.read()\n",
    "\n",
    "sequence = \"CGGTAC\"\n",
    "sequence2 = \"CGGTACCTTGACA\"\n",
    "sequence3 = \"ACACACA\"\n",
    "sequence4 = \"TTTCGAAATTTGCCCTCAAGCGCGAGTATTGAACCAGGCTTACGCCCAAGAACGTAGCAAGCTGACTCAAACAAAATACATTTTGCCCGCGTTACATATGAATCAAGTTGGAAGTTATGGAGCATAGTAACATGTGGACGGCCAGTGGTGGGTTGCTACACCCCTGCGGCAACGTTGAAGCTCCTGGATTACACTGGCTGGATCTAAGCCGTGACACCCGTCATACTCCATAACCGTCTGTAACTCACGGCTTGTTCTGGACTGGATTGCCATTCTCTCAGAGTATTATGCAGGCCGGCGTACGGGTCCCATATAAACCTGTCATAGCTTACCTGACTCTACTTGGAAATGTGGCTAGGTCTTTGCCCACGCACCTAATCGGTCCTCGTTTGCTTTTTAGGACCCGATGAACTACAGAACACTGCAAGAATCTCTACCTGCTTTACAAAGTGCTGGATCCTATTCCAGCGGGATCTTTTATCTAAACACGATGAGAGGAGTATTCGTCAGGCCACA\"\n",
    "\n",
    "number = content.count(sequence)\n",
    "number2 = content.count(sequence2)\n",
    "number3 = content.count(sequence3)\n",
    "number4 = content.count(sequence4)\n",
    "\n",
    "print(f'the number of times the sequence {sequence} appears is: {number}')\n",
    "print(f'the number of times the sequence {sequence2} appears is: {number2}')\n",
    "print(f'the number of times the sequence {sequence3} appears is: {number3}')\n",
    "print(f'the number of times the sequence {sequence4} appears is: {number4}')"
   ]
  },
  {
   "cell_type": "code",
   "execution_count": null,
   "metadata": {},
   "outputs": [],
   "source": []
  }
 ],
 "metadata": {
  "kernelspec": {
   "display_name": "Python 3",
   "language": "python",
   "name": "python3"
  },
  "language_info": {
   "codemirror_mode": {
    "name": "ipython",
    "version": 3
   },
   "file_extension": ".py",
   "mimetype": "text/x-python",
   "name": "python",
   "nbconvert_exporter": "python",
   "pygments_lexer": "ipython3",
   "version": "3.12.6"
  }
 },
 "nbformat": 4,
 "nbformat_minor": 2
}
